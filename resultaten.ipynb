{
 "cells": [
  {
   "cell_type": "code",
   "execution_count": 1,
   "id": "0696047d-6d50-44b1-9809-2eeb0a039e53",
   "metadata": {},
   "outputs": [],
   "source": [
    "import pandas as pd\n",
    "import numpy as np\n",
    "import yfinance as yf\n",
    "import matplotlib.pyplot as plt\n",
    "from pws_library import get_data, Backtest"
   ]
  },
  {
   "cell_type": "code",
   "execution_count": 2,
   "id": "d4014535-24d3-4c57-9d15-a5e7b6950b7e",
   "metadata": {},
   "outputs": [
    {
     "name": "stdout",
     "output_type": "stream",
     "text": [
      "[*********************100%***********************]  1 of 1 completed\n",
      "[*********************100%***********************]  1 of 1 completed\n",
      "[*********************100%***********************]  1 of 1 completed\n"
     ]
    }
   ],
   "source": [
    "df = pd.DataFrame()\n",
    "tickers = ['NQ', 'ES', 'YM']\n",
    "for ticker in tickers:\n",
    "    df1 = pd.read_csv(f\"C:\\\\Users\\\\Bram\\\\Desktop\\\\profielwerkstuk\\\\data\\\\{ticker}.csv\")\n",
    "    df1['date'] = pd.to_datetime(df1['date'])\n",
    "    df1 = df1.set_index('date')\n",
    "    df[f\"{ticker}\"] = df1['close']\n",
    "\n",
    "df2 = get_data(['NDX', '^GSPC', 'DJI'], start =\"2008-01-01\", end='2017-01-01' )\n",
    "df = pd.concat([df, df2], axis=1)\n",
    "df = df.dropna()"
   ]
  },
  {
   "cell_type": "code",
   "execution_count": 3,
   "id": "3fdd1b86-88ea-4ef8-b1a1-4f3fc8c2a5ce",
   "metadata": {},
   "outputs": [],
   "source": [
    "nq_rollover_dates = ['5/24/2010',\n",
    "    '3/7/2011',\n",
    "    '7/6/2012',\n",
    "    '12/24/2012',\n",
    "    '1/2/2014',\n",
    "    '7/1/2015',\n",
    "    '3/30/2016',\n",
    "    '1/24/2017',\n",
    "    '2/7/2018',\n",
    "    '3/15/2019',\n",
    "    '3/6/2020',\n",
    "    '5/25/2021',\n",
    "    '12/22/2021',\n",
    "    '4/2/2010',\n",
    "    '9/8/2010',\n",
    "    '5/17/2011',\n",
    "    '4/16/2012',\n",
    "    '6/25/2013',\n",
    "    '3/24/2014',\n",
    "    '4/30/2015',\n",
    "    '4/1/2016',\n",
    "    '8/8/2017',\n",
    "    '4/25/2018',\n",
    "    '4/16/2019',\n",
    "    '9/2/2020',\n",
    "    '3/24/2021',\n",
    "    '6/15/2022',\n",
    "    '4/2/2010',\n",
    "    '11/5/2010',\n",
    "    '9/20/2011',\n",
    "    '6/21/2012',\n",
    "    '9/11/2013',\n",
    "    '6/24/2014',\n",
    "    '8/21/2015',\n",
    "    '8/4/2016',\n",
    "    '12/15/2017',\n",
    "    '7/16/2018',\n",
    "    '7/16/2019',\n",
    "    '12/17/2020',\n",
    "    '6/20/2021',\n",
    "    '9/26/2022',\n",
    "    '4/11/2010',\n",
    "    '11/23/2010',\n",
    "    '12/19/2011',\n",
    "    '12/6/2012',\n",
    "    '11/25/2013',\n",
    "    '9/22/2014',\n",
    "    '10/21/2015',\n",
    "    '9/22/2016',\n",
    "    '9/18/2017',\n",
    "    '11/19/2018',\n",
    "    '12/2/2019',\n",
    "    '12/18/2020',\n",
    "    '10/1/2021',\n",
    "    '12/2/2022',]\n",
    "nq_rollovers = []\n",
    "for rollover_date in nq_rollover_dates:\n",
    "    nq_rollovers.append(pd.Timestamp(rollover_date))"
   ]
  },
  {
   "cell_type": "code",
   "execution_count": 4,
   "id": "b5aebd7d-dd10-4633-a7bc-6c7d7c5aa224",
   "metadata": {},
   "outputs": [
    {
     "name": "stderr",
     "output_type": "stream",
     "text": [
      "C:\\Users\\Bram\\Desktop\\profielwerkstuk\\pws_library.py:144: SettingWithCopyWarning: \n",
      "A value is trying to be set on a copy of a slice from a DataFrame.\n",
      "Try using .loc[row_indexer,col_indexer] = value instead\n",
      "\n",
      "See the caveats in the documentation: https://pandas.pydata.org/pandas-docs/stable/user_guide/indexing.html#returning-a-view-versus-a-copy\n",
      "  self.df.iloc[mask]['pnl'] = 0\n"
     ]
    },
    {
     "name": "stdout",
     "output_type": "stream",
     "text": [
      "totale rendement: 43.87%\n",
      "jaarlijkse rendement: 4.12%\n",
      "sharpe-ratio: 0.11\n",
      "maximale tijdelijke verlies: -0.29%\n"
     ]
    },
    {
     "data": {
      "image/png": "[encoded data removed]",
      "text/plain": [
       "<Figure size 1008x432 with 1 Axes>"
      ]
     },
     "metadata": {
      "needs_background": "light"
     },
     "output_type": "display_data"
    }
   ],
   "source": [
    "nqndx = Backtest(instrument=\"NDX\", futures='NQ', df=df, rollovers=nq_rollovers, jaren=9)\n",
    "\n",
    "\n"
   ]
  },
  {
   "cell_type": "code",
   "execution_count": 5,
   "id": "50ae87a8-2d5b-4a0f-bea6-8d45bc78cd87",
   "metadata": {},
   "outputs": [
    {
     "data": {
      "text/plain": [
       "177"
      ]
     },
     "execution_count": 5,
     "metadata": {},
     "output_type": "execute_result"
    }
   ],
   "source": [
    "nqndx.trades"
   ]
  },
  {
   "cell_type": "code",
   "execution_count": 16,
   "id": "9780d29b-5cba-4359-ad75-7f0f6239819b",
   "metadata": {},
   "outputs": [
    {
     "name": "stdout",
     "output_type": "stream",
     "text": [
      "[*********************100%***********************]  1 of 1 completed\n",
      "[*********************100%***********************]  1 of 1 completed\n",
      "[*********************100%***********************]  1 of 1 completed\n"
     ]
    }
   ],
   "source": [
    "df = pd.DataFrame()\n",
    "tickers = ['NQ', 'ES', 'YM']\n",
    "for ticker in tickers:\n",
    "    df1 = pd.read_csv(f\"C:\\\\Users\\\\Bram\\\\Desktop\\\\profielwerkstuk\\\\data\\\\{ticker}.csv\")\n",
    "    df1['date'] = pd.to_datetime(df1['date'])\n",
    "    df1 = df1.set_index('date')\n",
    "    df[f\"{ticker}\"] = df1['close']\n",
    "\n",
    "df2 = get_data(['NDX', '^GSPC', 'DJI'], start =\"2008-01-01\", end='2017-01-01' )\n",
    "df = pd.concat([df, df2], axis=1)\n",
    "df = df.dropna()"
   ]
  },
  {
   "cell_type": "code",
   "execution_count": 17,
   "id": "03426421-ff2a-4321-b83a-527e38e992a2",
   "metadata": {},
   "outputs": [],
   "source": [
    "es_rollover_dates = ['4/6/2010',\n",
    "    '3/6/2011',\n",
    "    '3/19/2012',\n",
    "    '3/6/2013',\n",
    "    '1/6/2014',\n",
    "    '1/6/2015',\n",
    "    '2/2/2016',\n",
    "    '1/6/2017',\n",
    "    '1/16/2018',\n",
    "    '1/11/2019',\n",
    "    '1/2/2020',\n",
    "    '1/8/2021',\n",
    "    '11/30/2021',\n",
    "    '12/26/2022',\n",
    "    '6/7/2010',\n",
    "    '5/4/2010',\n",
    "    '3/21/2011',\n",
    "    '4/23/2012',\n",
    "    '3/27/2013',\n",
    "    '5/21/2014',\n",
    "    '4/12/2015',\n",
    "    '4/13/2016',\n",
    "    '6/16/2017',\n",
    "    '6/11/2018',\n",
    "    '3/25/2019',\n",
    "    '4/7/2020',\n",
    "    '3/23/2021',\n",
    "    '1/4/2022',\n",
    "    '4/1/2010',\n",
    "    '8/9/2010',\n",
    "    '6/17/2011',\n",
    "    '6/25/2012',\n",
    "    '7/12/2013',\n",
    "    '7/8/2014',\n",
    "    '6/22/2015',\n",
    "    '8/4/2016',\n",
    "    '7/13/2017',\n",
    "    '7/9/2018',\n",
    "    '7/21/2019',\n",
    "    '6/29/2020',\n",
    "    '6/20/2021',\n",
    "    '8/18/2022',\n",
    "    '4/1/2010',\n",
    "    '10/19/2010',\n",
    "    '9/21/2011',\n",
    "    '10/16/2012',\n",
    "    '9/23/2013',\n",
    "    '9/22/2014',\n",
    "    '9/21/2015',\n",
    "    '10/18/2016',\n",
    "    '9/19/2017',\n",
    "    '9/25/2018',\n",
    "    '10/3/2019',\n",
    "    '9/25/2020',\n",
    "    '8/25/2021',\n",
    "    '9/6/2022',]\n",
    "es_rollovers = []\n",
    "for rollover_date in es_rollover_dates:\n",
    "    es_rollovers.append(pd.Timestamp(rollover_date))"
   ]
  },
  {
   "cell_type": "code",
   "execution_count": 18,
   "id": "8e83f09f-310a-46e1-868c-c2b7d6b97159",
   "metadata": {},
   "outputs": [
    {
     "name": "stderr",
     "output_type": "stream",
     "text": [
      "C:\\Users\\Bram\\Desktop\\profielwerkstuk\\pws_library.py:144: SettingWithCopyWarning: \n",
      "A value is trying to be set on a copy of a slice from a DataFrame.\n",
      "Try using .loc[row_indexer,col_indexer] = value instead\n",
      "\n",
      "See the caveats in the documentation: https://pandas.pydata.org/pandas-docs/stable/user_guide/indexing.html#returning-a-view-versus-a-copy\n",
      "  self.df.iloc[mask]['pnl'] = 0\n"
     ]
    },
    {
     "name": "stdout",
     "output_type": "stream",
     "text": [
      "totale rendement: 27.32%\n",
      "jaarlijkse rendement: 2.72%\n",
      "sharpe-ratio: 0.06\n",
      "maximale tijdelijke verlies: -0.55%\n"
     ]
    },
    {
     "data": {
      "text/plain": [
       "<pws_library.Backtest at 0x19ee86d7ac0>"
      ]
     },
     "execution_count": 18,
     "metadata": {},
     "output_type": "execute_result"
    },
    {
     "data": {
      "image/png": "[encoded data removed]",
      "text/plain": [
       "<Figure size 1008x432 with 1 Axes>"
      ]
     },
     "metadata": {
      "needs_background": "light"
     },
     "output_type": "display_data"
    }
   ],
   "source": [
    "Backtest(instrument=\"^GSPC\", futures='ES', df=df, rollovers=es_rollovers, jaren=9)"
   ]
  },
  {
   "cell_type": "code",
   "execution_count": 20,
   "id": "0f82d096-514a-423b-b2ba-675c2815a291",
   "metadata": {},
   "outputs": [
    {
     "name": "stdout",
     "output_type": "stream",
     "text": [
      "[*********************100%***********************]  1 of 1 completed\n",
      "[*********************100%***********************]  1 of 1 completed\n",
      "[*********************100%***********************]  1 of 1 completed\n"
     ]
    }
   ],
   "source": [
    "df = pd.DataFrame()\n",
    "tickers = ['NQ', 'ES', 'YM']\n",
    "for ticker in tickers:\n",
    "    df1 = pd.read_csv(f\"C:\\\\Users\\\\Bram\\\\Desktop\\\\profielwerkstuk\\\\data\\\\{ticker}.csv\")\n",
    "    df1['date'] = pd.to_datetime(df1['date'])\n",
    "    df1 = df1.set_index('date')\n",
    "    df[f\"{ticker}\"] = df1['close']\n",
    "\n",
    "df2 = get_data(['NDX', '^GSPC', 'DJI'], start =\"2008-01-01\", end='2017-01-01' )\n",
    "df = pd.concat([df, df2], axis=1)\n",
    "df = df.dropna()"
   ]
  },
  {
   "cell_type": "code",
   "execution_count": 21,
   "id": "e96789e6-6ce2-421c-b131-e153d85305d7",
   "metadata": {},
   "outputs": [],
   "source": [
    "ym_rollover_dates = ['5/11/2010',\n",
    "    '4/18/2011',\n",
    "    '3/29/2012',\n",
    "    '5/17/2013',\n",
    "    '7/3/2014',\n",
    "    '4/10/2015',\n",
    "    '5/23/2016',\n",
    "    '6/2/2017',\n",
    "    '3/22/2018',\n",
    "    '3/31/2019',\n",
    "    '6/22/2020',\n",
    "    '6/21/2021',\n",
    "    '7/15/2022',\n",
    "    '4/2/2010',\n",
    "    '6/21/2010',\n",
    "    '10/4/2011',\n",
    "    '6/19/2012',\n",
    "    '7/22/2013',\n",
    "    '6/25/2014',\n",
    "    '7/17/2015',\n",
    "    '8/7/2016',\n",
    "    '7/12/2017',\n",
    "    '8/24/2018',\n",
    "    '10/15/2019',\n",
    "    '8/12/2020',\n",
    "    '7/8/2021',\n",
    "    '8/19/2022',\n",
    "    '4/4/2010',\n",
    "    '11/23/2010',\n",
    "    '9/20/2011',\n",
    "    '2/27/2013',\n",
    "    '9/23/2013',\n",
    "    '12/4/2014',\n",
    "    '11/12/2015',\n",
    "    '1/12/2017',\n",
    "    '11/7/2017',\n",
    "    '10/4/2018',\n",
    "    '12/31/2019',\n",
    "    '11/10/2020',\n",
    "    '10/27/2021',\n",
    "    '11/2/2022',\n",
    "    '4/2/2010',\n",
    "    '1/4/2011',\n",
    "    '1/22/2012',\n",
    "    '12/31/2012',\n",
    "    '1/22/2014',\n",
    "    '2/2/2015',\n",
    "    '1/25/2016',\n",
    "    '12/19/2016',\n",
    "    '1/31/2018',\n",
    "    '2/7/2019',\n",
    "    '1/6/2020',\n",
    "    '1/4/2021',\n",
    "    '12/30/2021']\n",
    "ym_rollovers = []\n",
    "for rollover_date in ym_rollover_dates:\n",
    "    ym_rollovers.append(pd.Timestamp(rollover_date))"
   ]
  },
  {
   "cell_type": "code",
   "execution_count": 22,
   "id": "d213495d-2b64-4e90-9d27-3fc66c9d8ead",
   "metadata": {},
   "outputs": [
    {
     "name": "stderr",
     "output_type": "stream",
     "text": [
      "C:\\Users\\Bram\\Desktop\\profielwerkstuk\\pws_library.py:144: SettingWithCopyWarning: \n",
      "A value is trying to be set on a copy of a slice from a DataFrame.\n",
      "Try using .loc[row_indexer,col_indexer] = value instead\n",
      "\n",
      "See the caveats in the documentation: https://pandas.pydata.org/pandas-docs/stable/user_guide/indexing.html#returning-a-view-versus-a-copy\n",
      "  self.df.iloc[mask]['pnl'] = 0\n"
     ]
    },
    {
     "name": "stdout",
     "output_type": "stream",
     "text": [
      "totale rendement: 25.88%\n",
      "jaarlijkse rendement: 2.59%\n",
      "sharpe-ratio: 0.05\n",
      "maximale tijdelijke verlies: -0.49%\n"
     ]
    },
    {
     "data": {
      "text/plain": [
       "<pws_library.Backtest at 0x19ee71453f0>"
      ]
     },
     "execution_count": 22,
     "metadata": {},
     "output_type": "execute_result"
    },
    {
     "data": {
      "image/png": "[encoded data removed]",
      "text/plain": [
       "<Figure size 1008x432 with 1 Axes>"
      ]
     },
     "metadata": {
      "needs_background": "light"
     },
     "output_type": "display_data"
    }
   ],
   "source": [
    "Backtest(instrument=\"DJI\", futures='YM', df=df, rollovers=ym_rollovers, jaren=9)"
   ]
  }
 ],
 "metadata": {
  "kernelspec": {
   "display_name": "Python 3 (ipykernel)",
   "language": "python",
   "name": "python3"
  },
  "language_info": {
   "codemirror_mode": {
    "name": "ipython",
    "version": 3
   },
   "file_extension": ".py",
   "mimetype": "text/x-python",
   "name": "python",
   "nbconvert_exporter": "python",
   "pygments_lexer": "ipython3",
   "version": "3.10.2"
  }
 },
 "nbformat": 4,
 "nbformat_minor": 5
}
